{
  "cells": [
    {
      "cell_type": "markdown",
      "metadata": {
        "id": "view-in-github",
        "colab_type": "text"
      },
      "source": [
        "<a href=\"https://colab.research.google.com/github/Vikeshh/ML_project_Translator/blob/main/translator_hackathon.ipynb\" target=\"_parent\"><img src=\"https://colab.research.google.com/assets/colab-badge.svg\" alt=\"Open In Colab\"/></a>"
      ]
    },
    {
      "cell_type": "code",
      "execution_count": null,
      "metadata": {
        "id": "GPFMDGAVS8ws"
      },
      "outputs": [],
      "source": [
        "!pip install accelerate\n",
        "!pip install sentencepiece"
      ]
    },
    {
      "cell_type": "code",
      "execution_count": null,
      "metadata": {
        "id": "YjsOCWQ5MXyA"
      },
      "outputs": [],
      "source": [
        "# #Converting .mp4 to wav file\n",
        "# from moviepy.editor import VideoFileClip, AudioFileClip, CompositeAudioClip\n",
        "\n",
        "def convert_video_to_audio(video_path, audio_path):\n",
        "    try:\n",
        "        video = VideoFileClip(video_path)\n",
        "        audio = video.audio\n",
        "        audio.write_audiofile(audio_path, codec='pcm_s16le')  # Saving as WAV     format\n",
        "        print(\"Audio file successfully created!\")\n",
        "    except Exception as e:\n",
        "        print(f\"Error: {e}\")\n",
        "\n",
        "\n",
        "video_path = \"ex1.mp4\"  # TODO:Upgrade to support other codecs\n",
        "file_name = video_path[9:-4]\n",
        "audio_path = video_path[0:-4] + \".wav\"\n",
        "print(audio_path)\n",
        "# convert_video_to_audio(video_path, audio_path)"
      ]
    },
    {
      "cell_type": "code",
      "execution_count": null,
      "metadata": {
        "id": "Xs6gfh5ZNhiZ"
      },
      "outputs": [],
      "source": [
        "#Speech To Text\n",
        "from transformers import AutoModelForSpeechSeq2Seq, AutoProcessor, pipeline\n",
        "import torch\n",
        "\n",
        "device = \"cuda:0\" if torch.cuda.is_available() else \"cpu\"\n",
        "torch_dtype = torch.float16 if torch.cuda.is_available() else torch.float32\n",
        "\n",
        "model_id = \"openai/whisper-large-v3\"\n",
        "\n",
        "model_for_speech_2_text = AutoModelForSpeechSeq2Seq.from_pretrained(\n",
        "    model_id, torch_dtype=torch_dtype, low_cpu_mem_usage=True, use_safetensors=True\n",
        ")\n",
        "model_for_speech_2_text.to(device)\n",
        "\n",
        "processor = AutoProcessor.from_pretrained(model_id)\n",
        "\n",
        "pipe = pipeline(\n",
        "    \"automatic-speech-recognition\",\n",
        "    model=model_for_speech_2_text,\n",
        "    tokenizer=processor.tokenizer,\n",
        "    feature_extractor=processor.feature_extractor,\n",
        "    chunk_length_s=30,\n",
        "    batch_size=16,\n",
        "    return_timestamps=True,\n",
        "    torch_dtype=torch_dtype,\n",
        "    device=device,\n",
        ")\n",
        "\n",
        "result = pipe(audio_path)\n",
        "Transcript = result['text']\n",
        "print(result)\n",
        "print(result.keys())"
      ]
    },
    {
      "cell_type": "code",
      "execution_count": null,
      "metadata": {
        "id": "B-iUsLmLXBWJ"
      },
      "outputs": [],
      "source": [
        "Transcript"
      ]
    },
    {
      "cell_type": "code",
      "execution_count": null,
      "metadata": {
        "id": "pQc9Zub2Ev2B"
      },
      "outputs": [],
      "source": [
        "from transformers import M2M100ForConditionalGeneration, M2M100Tokenizer\n",
        "\n",
        "model_t = M2M100ForConditionalGeneration.from_pretrained(\"facebook/m2m100_418M\")\n",
        "tokenizer_t = M2M100Tokenizer.from_pretrained(\"facebook/m2m100_418M\")\n",
        "\n",
        "Translated_Transcript = []\n",
        "\n",
        "splited_transcript = Transcript.split(\".\")\n",
        "\n",
        "for i in splited_transcript:\n",
        "  tokenizer_t.src_lang = \"en\"\n",
        "  encoded_hi = tokenizer_t(i, return_tensors=\"pt\")\n",
        "  generated_tokens = model_t.generate(**encoded_hi, forced_bos_token_id=tokenizer_t.get_lang_id(\"hi\")).to(device)\n",
        "  l = tokenizer_t.batch_decode(generated_tokens, skip_special_tokens=True)\n",
        "  Translated_Transcript.append(l)"
      ]
    },
    {
      "cell_type": "code",
      "execution_count": null,
      "metadata": {
        "id": "TpJzdXCW7RvB"
      },
      "outputs": [],
      "source": [
        "Translated_Transcript"
      ]
    },
    {
      "cell_type": "code",
      "execution_count": null,
      "metadata": {
        "id": "G3JcdsSdYRLh"
      },
      "outputs": [],
      "source": [
        "import locale\n",
        "locale.getpreferredencoding = lambda: \"UTF-8\""
      ]
    },
    {
      "cell_type": "code",
      "execution_count": null,
      "metadata": {
        "id": "vxqmnO4JhBy3"
      },
      "outputs": [],
      "source": [
        "!pip install TTS"
      ]
    },
    {
      "cell_type": "code",
      "execution_count": null,
      "metadata": {
        "id": "i8Kxv6_DhcNb"
      },
      "outputs": [],
      "source": [
        "single_string = ' '.join([sentence[0] for sentence in Translated_Transcript])\n",
        "\n",
        "print(single_string)"
      ]
    },
    {
      "cell_type": "code",
      "execution_count": null,
      "metadata": {
        "id": "7pWS_7GrhDmW"
      },
      "outputs": [],
      "source": [
        "from TTS.api import TTS\n",
        "\n",
        "tts = TTS(\"tts_models/multilingual/multi-dataset/xtts_v2\")\n",
        "tts.to(device)\n",
        "\n",
        "\n",
        "text_translated = single_string\n",
        "curr_file_path = \"/content/output1.wav\"\n",
        "tts.tts_to_file(text=text_translated,\n",
        "              file_path=curr_file_path,\n",
        "              speaker_wav = \"/content/ex1.wav\",\n",
        "              language=\"hi\")"
      ]
    },
    {
      "cell_type": "code",
      "execution_count": null,
      "metadata": {
        "id": "FcVGRDJEoc8q"
      },
      "outputs": [],
      "source": [
        "from moviepy.editor import VideoFileClip, AudioFileClip\n",
        "\n",
        "# Load the original video\n",
        "original_video = VideoFileClip(video_path)\n",
        "\n",
        "# Load the new audio file\n",
        "new_audio = AudioFileClip(\"output1.wav\")\n",
        "\n",
        "# Replace the audio of the original video with the new audio\n",
        "final_clip = original_video.set_audio(new_audio)\n",
        "\n",
        "# Write the final video to a new file\n",
        "final_clip.write_videofile(\"final_video.mp4\")"
      ]
    },
    {
      "cell_type": "code",
      "execution_count": null,
      "metadata": {
        "id": "ylaqTaNmIeON"
      },
      "outputs": [],
      "source": []
    }
  ],
  "metadata": {
    "colab": {
      "provenance": [],
      "gpuType": "T4",
      "include_colab_link": true
    },
    "kernelspec": {
      "display_name": "Python 3",
      "name": "python3"
    },
    "language_info": {
      "name": "python"
    },
    "accelerator": "GPU"
  },
  "nbformat": 4,
  "nbformat_minor": 0
}